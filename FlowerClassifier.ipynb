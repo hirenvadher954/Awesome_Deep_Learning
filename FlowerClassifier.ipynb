{
  "nbformat": 4,
  "nbformat_minor": 0,
  "metadata": {
    "colab": {
      "name": "FlowerClassifier.ipynb",
      "provenance": [],
      "authorship_tag": "ABX9TyMTgiZ8jpLOyYjXr8J5o/Sw",
      "include_colab_link": true
    },
    "kernelspec": {
      "name": "python3",
      "display_name": "Python 3"
    },
    "accelerator": "GPU"
  },
  "cells": [
    {
      "cell_type": "markdown",
      "metadata": {
        "id": "view-in-github",
        "colab_type": "text"
      },
      "source": [
        "<a href=\"https://colab.research.google.com/github/hirenvadher954/Awesome_Machine_Learning/blob/master/FlowerClassifier.ipynb\" target=\"_parent\"><img src=\"https://colab.research.google.com/assets/colab-badge.svg\" alt=\"Open In Colab\"/></a>"
      ]
    },
    {
      "cell_type": "code",
      "metadata": {
        "id": "fXQ49m8P6ysP"
      },
      "source": [
        "import tensorflow as tf\n",
        "import os   "
      ],
      "execution_count": null,
      "outputs": []
    },
    {
      "cell_type": "code",
      "metadata": {
        "id": "oo1_Kvcw6zjL",
        "outputId": "9e4992d9-b8d3-4877-92cb-3449a5b28a9e",
        "colab": {
          "base_uri": "https://localhost:8080/",
          "height": 55
        }
      },
      "source": [
        "url = \"http://download.tensorflow.org/example_images/flower_photos.tgz\"\n",
        "zip_file = tf.keras.utils.get_file(\n",
        "    origin=url,fname='flower_photos.tgz',\n",
        "    extract=True,\n",
        "    cache_subdir=\"/content/sample_data/\"\n",
        ")\n",
        "base_dir = os.path.join(os.path.dirname(zip_file),'flower_photos')\n"
      ],
      "execution_count": null,
      "outputs": [
        {
          "output_type": "stream",
          "text": [
            "Downloading data from http://download.tensorflow.org/example_images/flower_photos.tgz\n",
            "228818944/228813984 [==============================] - 4s 0us/step\n"
          ],
          "name": "stdout"
        }
      ]
    },
    {
      "cell_type": "code",
      "metadata": {
        "id": "Ss0nVAX0AIAD",
        "outputId": "9c153636-18dd-462d-8610-e506f5e2004b",
        "colab": {
          "base_uri": "https://localhost:8080/",
          "height": 55
        }
      },
      "source": [
        "IMAGE_SIZE = 224\n",
        "BATCH_SIZE = 64\n",
        "\n",
        "datagen = tf.keras.preprocessing.image.ImageDataGenerator(\n",
        "    rescale=1./255,\n",
        "    validation_split=0.2\n",
        ")\n",
        " \n",
        "train_generator = datagen.flow_from_directory(\n",
        "    base_dir,\n",
        "    target_size=(IMAGE_SIZE,IMAGE_SIZE),\n",
        "    batch_size = BATCH_SIZE,\n",
        "    subset='training',\n",
        "    \n",
        ")\n",
        "\n",
        "val_generator = datagen.flow_from_directory(\n",
        "    base_dir,\n",
        "    target_size=(IMAGE_SIZE,IMAGE_SIZE),\n",
        "    batch_size = BATCH_SIZE,\n",
        "    subset='validation',\n",
        "    \n",
        ")\n",
        "\n"
      ],
      "execution_count": null,
      "outputs": [
        {
          "output_type": "stream",
          "text": [
            "Found 2939 images belonging to 5 classes.\n",
            "Found 731 images belonging to 5 classes.\n"
          ],
          "name": "stdout"
        }
      ]
    },
    {
      "cell_type": "code",
      "metadata": {
        "id": "pRylxl0IV4uV"
      },
      "source": [
        "\n",
        "labels = \"\\n\".join(sorted(train_generator.class_indices.keys()))\n",
        "\n",
        "with open('labels.txt','w') as f:\n",
        "  f.write(labels)\n"
      ],
      "execution_count": null,
      "outputs": []
    },
    {
      "cell_type": "code",
      "metadata": {
        "id": "KZlEfbPnWw-Y"
      },
      "source": [
        "`Img_Shape = (IMAGE_SIZE,IMAGE_SIZE,3)\n",
        "base_model = tf.keras.applications.MobileNetV2(\n",
        "    input_shape=Img_Shape,\n",
        "    include_top=False,\n",
        "    weights = 'imagenet'\n",
        ")\n",
        "\n",
        "base_model.trainable = False;"
      ],
      "execution_count": null,
      "outputs": []
    },
    {
      "cell_type": "code",
      "metadata": {
        "id": "SQNx59o1ad40"
      },
      "source": [
        "model = tf.keras.Sequential([\n",
        "    base_model,\n",
        "    tf.keras.layers.Conv2D(32,3,activation='relu'),\n",
        "    tf.keras.layers.Dropout(0.2),\n",
        "    tf.keras.layers.GlobalAveragePooling2D(),\n",
        "    tf.keras.layers.Dense(5,activation='softmax')\n",
        "\n",
        "])"
      ],
      "execution_count": null,
      "outputs": []
    },
    {
      "cell_type": "code",
      "metadata": {
        "id": "DOFZwysUcKZS"
      },
      "source": [
        "model.compile(optimizer=tf.keras.optimizers.Adam(),loss='categorical_crossentropy',metrics=['accuracy'])"
      ],
      "execution_count": null,
      "outputs": []
    },
    {
      "cell_type": "code",
      "metadata": {
        "id": "IfArjpF5c3a2",
        "outputId": "d516a911-ad48-46c5-ff84-5f0b670917e1",
        "colab": {
          "base_uri": "https://localhost:8080/",
          "height": 417
        }
      },
      "source": [
        "epochs = 10\n",
        "history = model.fit(\n",
        "    train_generator,\n",
        "    epochs=epochs,\n",
        "    validation_data=val_generator)"
      ],
      "execution_count": null,
      "outputs": [
        {
          "output_type": "stream",
          "text": [
            "Epoch 1/10\n",
            "46/46 [==============================] - 15s 316ms/step - loss: 0.9495 - accuracy: 0.7237 - val_loss: 0.4846 - val_accuracy: 0.8249\n",
            "Epoch 2/10\n",
            "46/46 [==============================] - 13s 290ms/step - loss: 0.3097 - accuracy: 0.8935 - val_loss: 0.3804 - val_accuracy: 0.8700\n",
            "Epoch 3/10\n",
            "46/46 [==============================] - 13s 286ms/step - loss: 0.2091 - accuracy: 0.9285 - val_loss: 0.4213 - val_accuracy: 0.8577\n",
            "Epoch 4/10\n",
            "46/46 [==============================] - 13s 289ms/step - loss: 0.1524 - accuracy: 0.9513 - val_loss: 0.3746 - val_accuracy: 0.8523\n",
            "Epoch 5/10\n",
            "46/46 [==============================] - 13s 287ms/step - loss: 0.1139 - accuracy: 0.9670 - val_loss: 0.3973 - val_accuracy: 0.8523\n",
            "Epoch 6/10\n",
            "46/46 [==============================] - 13s 290ms/step - loss: 0.0787 - accuracy: 0.9775 - val_loss: 0.3913 - val_accuracy: 0.8810\n",
            "Epoch 7/10\n",
            "46/46 [==============================] - 13s 291ms/step - loss: 0.0474 - accuracy: 0.9915 - val_loss: 0.4281 - val_accuracy: 0.8741\n",
            "Epoch 8/10\n",
            "46/46 [==============================] - 13s 289ms/step - loss: 0.0376 - accuracy: 0.9932 - val_loss: 0.4739 - val_accuracy: 0.8591\n",
            "Epoch 9/10\n",
            "46/46 [==============================] - 13s 291ms/step - loss: 0.0263 - accuracy: 0.9976 - val_loss: 0.4412 - val_accuracy: 0.8769\n",
            "Epoch 10/10\n",
            "46/46 [==============================] - 13s 291ms/step - loss: 0.0198 - accuracy: 0.9980 - val_loss: 0.4409 - val_accuracy: 0.8714\n"
          ],
          "name": "stdout"
        }
      ]
    },
    {
      "cell_type": "code",
      "metadata": {
        "id": "XXrb36_rdnCG",
        "outputId": "3deecaea-6e92-4125-9fb2-cd2e48930cc1",
        "colab": {
          "base_uri": "https://localhost:8080/",
          "height": 36
        }
      },
      "source": [
        "save_model_dir = ''\n",
        "tf.saved_model.save(model,save_mode_dir)\n",
        "converter = tf.lite.TFLiteConverter.from_saved_model(save_model_dir)\n",
        "tflite_model = converter.convert()\n",
        "\n",
        "with open('model.tflite','wb') as f:\n",
        "  f.write(tflite_model)\n"
      ],
      "execution_count": null,
      "outputs": [
        {
          "output_type": "stream",
          "text": [
            "INFO:tensorflow:Assets written to: assets\n"
          ],
          "name": "stdout"
        }
      ]
    },
    {
      "cell_type": "code",
      "metadata": {
        "id": "c63OmLIYfrA7"
      },
      "source": [
        ""
      ],
      "execution_count": null,
      "outputs": []
    }
  ]
}